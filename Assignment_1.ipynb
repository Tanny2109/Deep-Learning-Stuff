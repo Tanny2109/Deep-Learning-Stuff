{
  "nbformat": 4,
  "nbformat_minor": 0,
  "metadata": {
    "colab": {
      "name": "Assignment-1.ipynb",
      "provenance": [],
      "collapsed_sections": []
    },
    "kernelspec": {
      "name": "python3",
      "display_name": "Python 3"
    },
    "language_info": {
      "name": "python"
    },
    "accelerator": "GPU",
    "gpuClass": "standard"
  },
  "cells": [
    {
      "cell_type": "markdown",
      "source": [
        "### **Mounting data and importing libraries**"
      ],
      "metadata": {
        "id": "-eipvT8q63X-"
      }
    },
    {
      "cell_type": "code",
      "source": [
        "from google.colab import drive\n",
        "drive.mount('/content/drive', force_remount = True)"
      ],
      "metadata": {
        "colab": {
          "base_uri": "https://localhost:8080/"
        },
        "id": "IoF93zDk1nty",
        "outputId": "491b1cbb-2822-42ba-bb63-e55b5c678e7c"
      },
      "execution_count": 1,
      "outputs": [
        {
          "output_type": "stream",
          "name": "stdout",
          "text": [
            "Mounted at /content/drive\n"
          ]
        }
      ]
    },
    {
      "cell_type": "code",
      "source": [
        "import sys\n",
        "sys.path.append('/content/drive/MyDrive/DA621_DL_with_CV') #path in my google drive where I've uploaded the dataset"
      ],
      "metadata": {
        "id": "tVvp7kS13P-d"
      },
      "execution_count": 2,
      "outputs": []
    },
    {
      "cell_type": "code",
      "execution_count": 3,
      "metadata": {
        "id": "w5Se2Zx7pz1o"
      },
      "outputs": [],
      "source": [
        "import numpy as np\n",
        "import matplotlib\n",
        "import matplotlib.pyplot as plt\n",
        "from sklearn.model_selection import train_test_split\n",
        "from scipy.ndimage import uniform_filter\n",
        "from sklearn.metrics import classification_report, accuracy_score\n",
        "from six.moves import cPickle as pickle\n",
        "import os\n",
        "from data_utils import load_CIFAR10\n",
        "\n",
        "%matplotlib inline\n",
        "%load_ext autoreload\n",
        "%autoreload 2"
      ]
    },
    {
      "cell_type": "markdown",
      "source": [
        "Dataset was uploaded to my google-drive and fetched from there"
      ],
      "metadata": {
        "id": "mNqmR-wp7W06"
      }
    },
    {
      "cell_type": "code",
      "source": [
        "data_dir = '/content/drive/MyDrive/DA621_DL_with_CV/datasets/cifar-10-batches-py'\n",
        "\n",
        "x_train, y_train, x_test, y_test = load_CIFAR10(data_dir)\n",
        "\n",
        "# As a sanity check, we print out the size of the training and test data.\n",
        "print('Training data shape: ', x_train.shape)\n",
        "print('Training labels shape: ', y_train.shape)\n",
        "print('Test data shape: ', x_test.shape)\n",
        "print('Test labels shape: ', y_test.shape)"
      ],
      "metadata": {
        "colab": {
          "base_uri": "https://localhost:8080/"
        },
        "id": "8nX8J2WISgqJ",
        "outputId": "ae8ae4cd-dac9-4b2b-e80c-ff08a6477fdc"
      },
      "execution_count": 4,
      "outputs": [
        {
          "output_type": "stream",
          "name": "stdout",
          "text": [
            "Training data shape:  (50000, 32, 32, 3)\n",
            "Training labels shape:  (50000,)\n",
            "Test data shape:  (10000, 32, 32, 3)\n",
            "Test labels shape:  (10000,)\n"
          ]
        }
      ]
    },
    {
      "cell_type": "code",
      "source": [
        "#Reducing the training and testing dataset size to speed up the model training on colab environment\n",
        "\n",
        "num_training = 3000\n",
        "mask = list(range(num_training))\n",
        "X_train = x_train[mask]\n",
        "y_train = y_train[mask]\n",
        "\n",
        "num_test = 1000\n",
        "mask = list(range(num_test))\n",
        "X_test = x_test[mask]\n",
        "y_test = y_test[mask]"
      ],
      "metadata": {
        "id": "0cNMQhGqU5rJ"
      },
      "execution_count": 5,
      "outputs": []
    },
    {
      "cell_type": "code",
      "source": [
        "# Reshape the image data into rows\n",
        "X_train = np.reshape(X_train, (X_train.shape[0], -1))\n",
        "X_test = np.reshape(X_test, (X_test.shape[0], -1))\n",
        "print(X_train.shape, X_test.shape)"
      ],
      "metadata": {
        "colab": {
          "base_uri": "https://localhost:8080/"
        },
        "id": "zoWVx7_jVTLV",
        "outputId": "89b2ec7d-c6d1-47cd-d5d2-d2e3a98e1d7c"
      },
      "execution_count": 6,
      "outputs": [
        {
          "output_type": "stream",
          "name": "stdout",
          "text": [
            "(3000, 3072) (1000, 3072)\n"
          ]
        }
      ]
    },
    {
      "cell_type": "markdown",
      "source": [
        "# **KNN-Classifier Implementation**"
      ],
      "metadata": {
        "id": "RhJ4wxqK7nOa"
      }
    },
    {
      "cell_type": "code",
      "source": [
        "class KNN(object):\n",
        "\n",
        "  def __init__(self):\n",
        "    pass\n",
        "\n",
        "  def train(self, X, y):\n",
        "    self.X_train = X\n",
        "    self.y_train = y\n",
        "    \n",
        "  def predict(self, X, k=1):\n",
        "    dists = self.compute_distances(X)\n",
        "    return self.predict_labels(dists, k=k)\n",
        "\n",
        "  def compute_distances(self, X):\n",
        "    num_test = X.shape[0]\n",
        "    num_train = self.X_train.shape[0]\n",
        "    dists = np.zeros((num_test, num_train))\n",
        "    for i in range(num_test):\n",
        "      for j in range(num_train):\n",
        "        dists[i][j] = np.sqrt(np.sum((X[i] - self.X_train[j])**2))\n",
        "    return dists\n",
        "\n",
        "  def predict_labels(self, dists, k=1):\n",
        "    num_test = dists.shape[0]\n",
        "    y_pred = np.zeros(num_test)\n",
        "    for i in range(num_test):\n",
        "      closest_y = []\n",
        "      closest_y = self.y_train[np.argsort(dists[i])][0:k]\n",
        "      y_pred[i] = np.bincount(closest_y).argmax()\n",
        "      \n",
        "    return y_pred"
      ],
      "metadata": {
        "id": "lYT9AlA5VaPK"
      },
      "execution_count": 7,
      "outputs": []
    },
    {
      "cell_type": "code",
      "source": [
        "X_train = np.hstack([X_train, np.ones((X_train.shape[0], 1))])\n",
        "X_test = np.hstack([X_test, np.ones((X_test.shape[0], 1))])"
      ],
      "metadata": {
        "id": "6357yW71pEpY"
      },
      "execution_count": 8,
      "outputs": []
    },
    {
      "cell_type": "code",
      "source": [
        "knn_classifier = KNN()\n",
        "knn_classifier.train(X_train, y_train)"
      ],
      "metadata": {
        "id": "b771vhc8VVU1"
      },
      "execution_count": 9,
      "outputs": []
    },
    {
      "cell_type": "code",
      "source": [
        "dists = knn_classifier.compute_distances(X_test)\n",
        "print(dists.shape)"
      ],
      "metadata": {
        "colab": {
          "base_uri": "https://localhost:8080/"
        },
        "id": "xZibqtHhVuKZ",
        "outputId": "eb5020bd-4036-4c84-ea79-3ea7878e39e6"
      },
      "execution_count": 10,
      "outputs": [
        {
          "output_type": "stream",
          "name": "stdout",
          "text": [
            "(1000, 3000)\n"
          ]
        }
      ]
    },
    {
      "cell_type": "code",
      "source": [
        "k=1\n",
        "y_test_pred = knn_classifier.predict_labels(dists, k)\n",
        "\n",
        "# Compute and print the fraction of correctly predicted examples\n",
        "num_correct = np.sum(y_test_pred == y_test)\n",
        "accuracy = float(num_correct) / num_test\n",
        "print('Got %d / %d correct at k=%d => accuracy: %f' % (num_correct, num_test, k, accuracy))"
      ],
      "metadata": {
        "colab": {
          "base_uri": "https://localhost:8080/"
        },
        "id": "pYIVMEB4VwsG",
        "outputId": "8563d3e8-8cd4-4adb-c752-afadbe305291"
      },
      "execution_count": 11,
      "outputs": [
        {
          "output_type": "stream",
          "name": "stdout",
          "text": [
            "Got 248 / 1000 correct at k=1 => accuracy: 0.248000\n"
          ]
        }
      ]
    },
    {
      "cell_type": "markdown",
      "source": [
        "### **Finding the best value of k .......**\n"
      ],
      "metadata": {
        "id": "YX15oz3z73OZ"
      }
    },
    {
      "cell_type": "code",
      "source": [
        "k_choices = [1, 3, 5, 8, 10, 12, 15, 20, 50, 100]\n",
        "\n",
        "error_rate = []\n",
        "k_accuracies = {}\n",
        "\n",
        "for k in k_choices:\n",
        "    k_accuracies[k] = []\n",
        "    knn = knn_classifier.train(X_train, y_train)\n",
        "    pred = knn_classifier.predict_labels(dists, k=k)\n",
        "    num_correct = np.sum(pred == y_test)\n",
        "    error_rate.append(np.mean(pred != y_test))\n",
        "    # accuracy = float(num_correct) / X_train.shape[0]\n",
        "    accuracy = float(num_correct)/num_test\n",
        "    k_accuracies[k].append(accuracy)\n",
        "\n",
        "plt.figure(figsize=(15,10))\n",
        "plt.plot(error_rate, marker='o', markersize=9)\n",
        "\n",
        "for k in sorted(k_accuracies):\n",
        "    for accuracy in k_accuracies[k]:\n",
        "        print('k = %d, accuracy = %f' % (k, accuracy))"
      ],
      "metadata": {
        "colab": {
          "base_uri": "https://localhost:8080/",
          "height": 771
        },
        "id": "2l20yutPWvg6",
        "outputId": "79f0fd18-5ec0-44f5-ce7c-1b2826f2dba1"
      },
      "execution_count": 12,
      "outputs": [
        {
          "output_type": "stream",
          "name": "stdout",
          "text": [
            "k = 1, accuracy = 0.248000\n",
            "k = 3, accuracy = 0.251000\n",
            "k = 5, accuracy = 0.273000\n",
            "k = 8, accuracy = 0.266000\n",
            "k = 10, accuracy = 0.268000\n",
            "k = 12, accuracy = 0.263000\n",
            "k = 15, accuracy = 0.258000\n",
            "k = 20, accuracy = 0.254000\n",
            "k = 50, accuracy = 0.241000\n",
            "k = 100, accuracy = 0.238000\n"
          ]
        },
        {
          "output_type": "display_data",
          "data": {
            "text/plain": [
              "<Figure size 1080x720 with 1 Axes>"
            ],
            "image/png": "[encoded data removed]"
          },
          "metadata": {
            "needs_background": "light"
          }
        }
      ]
    },
    {
      "cell_type": "code",
      "source": [
        "accuracies_mean = np.array([np.mean(v) for k,v in sorted(k_accuracies.items())])\n",
        "\n",
        "best_k = k_choices[accuracies_mean.argmax()]\n",
        "\n",
        "classifier = KNN()\n",
        "classifier.train(X_train, y_train)\n",
        "y_test_pred = classifier.predict(X_test, k=best_k)\n",
        "\n",
        "num_correct = np.sum(y_test_pred == y_test)\n",
        "accuracy = float(num_correct) / num_test\n",
        "print('Got %d / %d correct at k=%d=> accuracy: %f' % (num_correct, num_test, best_k, accuracy))"
      ],
      "metadata": {
        "colab": {
          "base_uri": "https://localhost:8080/"
        },
        "id": "O4I6CkVtZKc8",
        "outputId": "2f937584-9e9d-4d98-f877-abaf31150ffa"
      },
      "execution_count": 13,
      "outputs": [
        {
          "output_type": "stream",
          "name": "stdout",
          "text": [
            "Got 273 / 1000 correct at k=5=> accuracy: 0.273000\n"
          ]
        }
      ]
    },
    {
      "cell_type": "markdown",
      "source": [
        "# **Implementing Linear-Classifier with SVM/hinge loss**"
      ],
      "metadata": {
        "id": "TD6oxffH8CUC"
      }
    },
    {
      "cell_type": "code",
      "source": [
        "def svm_loss(W, X, y, reg):\n",
        " \n",
        "  dW = np.zeros(W.shape) # initialize the gradient as zero\n",
        "\n",
        "  classes = W.shape[1]\n",
        "  train = X.shape[0]\n",
        "  loss = 0.0\n",
        "  for i in range(train):\n",
        "    scores = X[i].dot(W)\n",
        "    correct_class_score = scores[y[i]]\n",
        "    for j in range(classes):\n",
        "      if j == y[i]:\n",
        "        continue\n",
        "      margin = scores[j] - correct_class_score + 1\n",
        "      if margin > 0:\n",
        "        loss += margin\n",
        "        dW[:, y[i]] = dW[:, y[i]] - X[i] \n",
        "        dW[:,j] = dW[:,j] + X[i] \n",
        "\n",
        "  loss /= train\n",
        "  dW = dW / train \n",
        "\n",
        "  # Add regularization to the loss.\n",
        "  loss += reg * np.sum(W * W)\n",
        "  dW = dW + reg * 2 * W \n",
        "\n",
        "  return loss, dW"
      ],
      "metadata": {
        "id": "Kgg9Atikm2rX"
      },
      "execution_count": 14,
      "outputs": []
    },
    {
      "cell_type": "code",
      "source": [
        "W = np.random.randn(3073, 10) * 0.0001 \n",
        "\n",
        "alpha = 1e-7\n",
        "loss_history = []\n",
        "for i in range(100):\n",
        "  loss, grad = svm_loss(W,X_train,y_train,0.0000005)\n",
        "  print(\"Loss for epoch {} is: {}\".format(i,loss))\n",
        "  loss_history.append(loss)\n",
        "  W = W - alpha * grad\n",
        "\n",
        "\n",
        "# loss, grad = svm_loss(W, X_train, y_train, 0.000021)\n",
        "# print(\"loss: %f\" % (loss))"
      ],
      "metadata": {
        "colab": {
          "base_uri": "https://localhost:8080/"
        },
        "id": "0Q4cPLFDmkdh",
        "outputId": "ab9ea7cd-6f97-4ec3-d6ae-b3ec9b5c8a1e"
      },
      "execution_count": 15,
      "outputs": [
        {
          "output_type": "stream",
          "name": "stdout",
          "text": [
            "Loss for epoch 0 is: 10.169367909079158\n",
            "Loss for epoch 1 is: 10.897896475753011\n",
            "Loss for epoch 2 is: 11.045152610778105\n",
            "Loss for epoch 3 is: 11.544831749665594\n",
            "Loss for epoch 4 is: 10.83607990613083\n",
            "Loss for epoch 5 is: 10.96389558349763\n",
            "Loss for epoch 6 is: 10.249866550946455\n",
            "Loss for epoch 7 is: 10.819167103268642\n",
            "Loss for epoch 8 is: 9.846730206870484\n",
            "Loss for epoch 9 is: 10.33560696175929\n",
            "Loss for epoch 10 is: 9.67570262763354\n",
            "Loss for epoch 11 is: 10.02454964506774\n",
            "Loss for epoch 12 is: 9.637890389989101\n",
            "Loss for epoch 13 is: 9.6319629282536\n",
            "Loss for epoch 14 is: 9.536507027211993\n",
            "Loss for epoch 15 is: 9.30735144943046\n",
            "Loss for epoch 16 is: 9.396355667394019\n",
            "Loss for epoch 17 is: 8.971419803544444\n",
            "Loss for epoch 18 is: 9.276217507066791\n",
            "Loss for epoch 19 is: 8.687576940522021\n",
            "Loss for epoch 20 is: 9.212444099994974\n",
            "Loss for epoch 21 is: 8.50420786454794\n",
            "Loss for epoch 22 is: 9.175370949055914\n",
            "Loss for epoch 23 is: 8.407658516439222\n",
            "Loss for epoch 24 is: 9.246816450658086\n",
            "Loss for epoch 25 is: 8.258249012595506\n",
            "Loss for epoch 26 is: 9.231670304395161\n",
            "Loss for epoch 27 is: 8.06391764440625\n",
            "Loss for epoch 28 is: 9.17175679545835\n",
            "Loss for epoch 29 is: 7.904416973264103\n",
            "Loss for epoch 30 is: 9.083163316035655\n",
            "Loss for epoch 31 is: 7.7905092999368035\n",
            "Loss for epoch 32 is: 8.998378235032513\n",
            "Loss for epoch 33 is: 7.680064485734448\n",
            "Loss for epoch 34 is: 8.889326986082457\n",
            "Loss for epoch 35 is: 7.613878857729238\n",
            "Loss for epoch 36 is: 8.75922144539533\n",
            "Loss for epoch 37 is: 7.545071473550099\n",
            "Loss for epoch 38 is: 8.62650127221588\n",
            "Loss for epoch 39 is: 7.488856216493467\n",
            "Loss for epoch 40 is: 8.49432793762287\n",
            "Loss for epoch 41 is: 7.427875493375272\n",
            "Loss for epoch 42 is: 8.402710403949067\n",
            "Loss for epoch 43 is: 7.362040724689241\n",
            "Loss for epoch 44 is: 8.306073133890791\n",
            "Loss for epoch 45 is: 7.2993189072455635\n",
            "Loss for epoch 46 is: 8.225296818497258\n",
            "Loss for epoch 47 is: 7.245792983518081\n",
            "Loss for epoch 48 is: 8.141838663037403\n",
            "Loss for epoch 49 is: 7.201308665935595\n",
            "Loss for epoch 50 is: 8.04919548641218\n",
            "Loss for epoch 51 is: 7.169856463428103\n",
            "Loss for epoch 52 is: 7.995322369377044\n",
            "Loss for epoch 53 is: 7.109369014217596\n",
            "Loss for epoch 54 is: 7.918172094141619\n",
            "Loss for epoch 55 is: 7.061680878581441\n",
            "Loss for epoch 56 is: 7.857982970883888\n",
            "Loss for epoch 57 is: 7.0015847198576875\n",
            "Loss for epoch 58 is: 7.787725936399868\n",
            "Loss for epoch 59 is: 6.955760512686127\n",
            "Loss for epoch 60 is: 7.723851369714451\n",
            "Loss for epoch 61 is: 6.923684665757663\n",
            "Loss for epoch 62 is: 7.668718466171221\n",
            "Loss for epoch 63 is: 6.907532342174969\n",
            "Loss for epoch 64 is: 7.597054687434147\n",
            "Loss for epoch 65 is: 6.900687813189438\n",
            "Loss for epoch 66 is: 7.570977594557459\n",
            "Loss for epoch 67 is: 6.865989027298203\n",
            "Loss for epoch 68 is: 7.523199625043557\n",
            "Loss for epoch 69 is: 6.836748157425555\n",
            "Loss for epoch 70 is: 7.473108680089809\n",
            "Loss for epoch 71 is: 6.807065993627245\n",
            "Loss for epoch 72 is: 7.413281433869849\n",
            "Loss for epoch 73 is: 6.774039181423751\n",
            "Loss for epoch 74 is: 7.369410038842103\n",
            "Loss for epoch 75 is: 6.7470591576154675\n",
            "Loss for epoch 76 is: 7.323693381414254\n",
            "Loss for epoch 77 is: 6.732162888424159\n",
            "Loss for epoch 78 is: 7.292823008801757\n",
            "Loss for epoch 79 is: 6.695358356858362\n",
            "Loss for epoch 80 is: 7.251021828996284\n",
            "Loss for epoch 81 is: 6.654275492911914\n",
            "Loss for epoch 82 is: 7.203930561395827\n",
            "Loss for epoch 83 is: 6.6333558984747025\n",
            "Loss for epoch 84 is: 7.157981593595262\n",
            "Loss for epoch 85 is: 6.605809772511729\n",
            "Loss for epoch 86 is: 7.118955778193238\n",
            "Loss for epoch 87 is: 6.5819354022990195\n",
            "Loss for epoch 88 is: 7.08821069027853\n",
            "Loss for epoch 89 is: 6.559937451672466\n",
            "Loss for epoch 90 is: 7.060447614733641\n",
            "Loss for epoch 91 is: 6.5447232378457345\n",
            "Loss for epoch 92 is: 7.032925841128953\n",
            "Loss for epoch 93 is: 6.562190286732699\n",
            "Loss for epoch 94 is: 7.014125907550178\n",
            "Loss for epoch 95 is: 6.548528884030941\n",
            "Loss for epoch 96 is: 6.986107737229086\n",
            "Loss for epoch 97 is: 6.546864104454821\n",
            "Loss for epoch 98 is: 6.966933357264284\n",
            "Loss for epoch 99 is: 6.539860960180171\n"
          ]
        }
      ]
    },
    {
      "cell_type": "code",
      "source": [
        "def svm_predict(W,images):\n",
        "  preds = []\n",
        "  for idx, i in enumerate(images):\n",
        "    score = (np.dot(i.flatten().reshape(1,-1),W)).ravel()\n",
        "    preds.append(np.argmax(score)+1)\n",
        "\n",
        "  return preds"
      ],
      "metadata": {
        "id": "jI-lE5qNoH1E"
      },
      "execution_count": 16,
      "outputs": []
    },
    {
      "cell_type": "code",
      "source": [
        "predictions = svm_predict(W,X_test)"
      ],
      "metadata": {
        "id": "rmmtuKgJ4UYg"
      },
      "execution_count": 17,
      "outputs": []
    },
    {
      "cell_type": "code",
      "source": [
        "svm_accuracy = np.mean(y_test == predictions)\n",
        "print(\"Linear Classification with SVM accuracy: %f\" % (svm_accuracy))"
      ],
      "metadata": {
        "colab": {
          "base_uri": "https://localhost:8080/"
        },
        "id": "2RfU_Y2Pd9K6",
        "outputId": "27a22cca-4f8d-4960-ac8f-8d4dfe78e786"
      },
      "execution_count": 18,
      "outputs": [
        {
          "output_type": "stream",
          "name": "stdout",
          "text": [
            "Linear Classification with SVM accuracy: 0.086000\n"
          ]
        }
      ]
    },
    {
      "cell_type": "code",
      "source": [
        "print(classification_report(y_test,predictions))"
      ],
      "metadata": {
        "colab": {
          "base_uri": "https://localhost:8080/"
        },
        "id": "8df7c3aW4W_c",
        "outputId": "1c75bd1d-aa08-446e-c95c-a768f43b9d29"
      },
      "execution_count": 19,
      "outputs": [
        {
          "output_type": "stream",
          "name": "stdout",
          "text": [
            "              precision    recall  f1-score   support\n",
            "\n",
            "           0       0.00      0.00      0.00       103\n",
            "           1       0.06      0.19      0.09        89\n",
            "           2       0.02      0.02      0.02       100\n",
            "           3       0.12      0.58      0.20       103\n",
            "           4       0.00      0.00      0.00        90\n",
            "           5       0.00      0.00      0.00        86\n",
            "           6       0.09      0.03      0.04       112\n",
            "           7       0.05      0.04      0.04       102\n",
            "           8       0.00      0.00      0.00       106\n",
            "           9       0.00      0.00      0.00       109\n",
            "          10       0.00      0.00      0.00         0\n",
            "\n",
            "    accuracy                           0.09      1000\n",
            "   macro avg       0.03      0.08      0.04      1000\n",
            "weighted avg       0.04      0.09      0.04      1000\n",
            "\n"
          ]
        },
        {
          "output_type": "stream",
          "name": "stderr",
          "text": [
            "/usr/local/lib/python3.7/dist-packages/sklearn/metrics/_classification.py:1318: UndefinedMetricWarning: Precision and F-score are ill-defined and being set to 0.0 in labels with no predicted samples. Use `zero_division` parameter to control this behavior.\n",
            "  _warn_prf(average, modifier, msg_start, len(result))\n",
            "/usr/local/lib/python3.7/dist-packages/sklearn/metrics/_classification.py:1318: UndefinedMetricWarning: Recall and F-score are ill-defined and being set to 0.0 in labels with no true samples. Use `zero_division` parameter to control this behavior.\n",
            "  _warn_prf(average, modifier, msg_start, len(result))\n",
            "/usr/local/lib/python3.7/dist-packages/sklearn/metrics/_classification.py:1318: UndefinedMetricWarning: Precision and F-score are ill-defined and being set to 0.0 in labels with no predicted samples. Use `zero_division` parameter to control this behavior.\n",
            "  _warn_prf(average, modifier, msg_start, len(result))\n",
            "/usr/local/lib/python3.7/dist-packages/sklearn/metrics/_classification.py:1318: UndefinedMetricWarning: Recall and F-score are ill-defined and being set to 0.0 in labels with no true samples. Use `zero_division` parameter to control this behavior.\n",
            "  _warn_prf(average, modifier, msg_start, len(result))\n",
            "/usr/local/lib/python3.7/dist-packages/sklearn/metrics/_classification.py:1318: UndefinedMetricWarning: Precision and F-score are ill-defined and being set to 0.0 in labels with no predicted samples. Use `zero_division` parameter to control this behavior.\n",
            "  _warn_prf(average, modifier, msg_start, len(result))\n",
            "/usr/local/lib/python3.7/dist-packages/sklearn/metrics/_classification.py:1318: UndefinedMetricWarning: Recall and F-score are ill-defined and being set to 0.0 in labels with no true samples. Use `zero_division` parameter to control this behavior.\n",
            "  _warn_prf(average, modifier, msg_start, len(result))\n"
          ]
        }
      ]
    },
    {
      "cell_type": "markdown",
      "source": [
        "# **Implementing Linear-Classifier with SOFTMAX loss**"
      ],
      "metadata": {
        "id": "plY_zibf8swJ"
      }
    },
    {
      "cell_type": "code",
      "source": [
        "def softmax_loss(W, X, y, reg):\n",
        " \n",
        "  loss = 0.0\n",
        "  dW = np.zeros_like(W)\n",
        "  scores = X.dot(W)\n",
        "  num_train = X.shape[0]\n",
        "  num_classes = W.shape[1]\n",
        "\n",
        "  # Softmax Loss\n",
        "  for i in range(num_train):\n",
        "    f = scores[i] - np.max(scores[i])\n",
        "    softmax = np.exp(f)/np.sum(np.exp(f))\n",
        "    loss += -np.log(softmax[y[i]])\n",
        "    # Weight Gradients\n",
        "    for j in range(num_classes):\n",
        "      dW[:,j] += X[i] * softmax[j]\n",
        "    dW[:,y[i]] -= X[i]\n",
        "\n",
        "  # Average\n",
        "  loss /= num_train\n",
        "  dW /= num_train\n",
        "\n",
        "  # Regularization\n",
        "  loss += reg * np.sum(W * W)\n",
        "  dW += reg * 2 * W \n",
        "\n",
        "  return loss, dW"
      ],
      "metadata": {
        "id": "WZ2Vyo_x6tJO"
      },
      "execution_count": 20,
      "outputs": []
    },
    {
      "cell_type": "code",
      "source": [
        "W = 0.001 * np.random.rand(3073,10)\n",
        "b = 0.001 * np.random.rand(1,10)\n",
        "alpha = 1e-7\n",
        "loss_history = []\n",
        "for i in range(100):\n",
        "  loss, grad = softmax_loss(W,X_train,y_train,0)\n",
        "  print(\"Loss for epoch {} is: {}\".format(i,loss))\n",
        "  loss_history.append(loss)\n",
        "  W = W - alpha * grad"
      ],
      "metadata": {
        "colab": {
          "base_uri": "https://localhost:8080/"
        },
        "id": "BpR8B3ve9ZJW",
        "outputId": "e98cf9c3-8bf7-458a-f7a9-70214a33d25d"
      },
      "execution_count": 21,
      "outputs": [
        {
          "output_type": "stream",
          "name": "stdout",
          "text": [
            "Loss for epoch 0 is: 4.4731855604005535\n",
            "Loss for epoch 1 is: 3.133892988749683\n",
            "Loss for epoch 2 is: 2.889050764031625\n",
            "Loss for epoch 3 is: 2.7708060428233767\n",
            "Loss for epoch 4 is: 2.685823293141975\n",
            "Loss for epoch 5 is: 2.620442733139103\n",
            "Loss for epoch 6 is: 2.570169610303053\n",
            "Loss for epoch 7 is: 2.5335048178861035\n",
            "Loss for epoch 8 is: 2.5090891564629563\n",
            "Loss for epoch 9 is: 2.4940250752588073\n",
            "Loss for epoch 10 is: 2.484521881590629\n",
            "Loss for epoch 11 is: 2.4775911921440605\n",
            "Loss for epoch 12 is: 2.471655088738511\n",
            "Loss for epoch 13 is: 2.466092225218678\n",
            "Loss for epoch 14 is: 2.460700203041872\n",
            "Loss for epoch 15 is: 2.4554191392579607\n",
            "Loss for epoch 16 is: 2.4502312394883705\n",
            "Loss for epoch 17 is: 2.445130281320201\n",
            "Loss for epoch 18 is: 2.44011314504702\n",
            "Loss for epoch 19 is: 2.435177561166733\n",
            "Loss for epoch 20 is: 2.4303215207112014\n",
            "Loss for epoch 21 is: 2.4255431206907283\n",
            "Loss for epoch 22 is: 2.420840522790055\n",
            "Loss for epoch 23 is: 2.4162119416618846\n",
            "Loss for epoch 24 is: 2.411655641030206\n",
            "Loss for epoch 25 is: 2.4071699318778994\n",
            "Loss for epoch 26 is: 2.4027531711943664\n",
            "Loss for epoch 27 is: 2.3984037608707314\n",
            "Loss for epoch 28 is: 2.394120146630355\n",
            "Loss for epoch 29 is: 2.389900816965064\n",
            "Loss for epoch 30 is: 2.385744302070543\n",
            "Loss for epoch 31 is: 2.381649172781616\n",
            "Loss for epoch 32 is: 2.3776140395096204\n",
            "Loss for epoch 33 is: 2.3736375511848715\n",
            "Loss for epoch 34 is: 2.3697183942070112\n",
            "Loss for epoch 35 is: 2.365855291405608\n",
            "Loss for epoch 36 is: 2.3620470010136825\n",
            "Loss for epoch 37 is: 2.358292315655778\n",
            "Loss for epoch 38 is: 2.3545900613526105\n",
            "Loss for epoch 39 is: 2.3509390965436707\n",
            "Loss for epoch 40 is: 2.3473383111289796\n",
            "Loss for epoch 41 is: 2.343786625531042\n",
            "Loss for epoch 42 is: 2.34028298977786\n",
            "Loss for epoch 43 is: 2.336826382607583\n",
            "Loss for epoch 44 is: 2.3334158105951723\n",
            "Loss for epoch 45 is: 2.3300503073017236\n",
            "Loss for epoch 46 is: 2.3267289324461538\n",
            "Loss for epoch 47 is: 2.3234507710998167\n",
            "Loss for epoch 48 is: 2.3202149329037467\n",
            "Loss for epoch 49 is: 2.31702055130844\n",
            "Loss for epoch 50 is: 2.31386678283615\n",
            "Loss for epoch 51 is: 2.3107528063653033\n",
            "Loss for epoch 52 is: 2.3076778224367938\n",
            "Loss for epoch 53 is: 2.3046410525818133\n",
            "Loss for epoch 54 is: 2.3016417386707886\n",
            "Loss for epoch 55 is: 2.2986791422830994\n",
            "Loss for epoch 56 is: 2.295752544097033\n",
            "Loss for epoch 57 is: 2.292861243299492\n",
            "Loss for epoch 58 is: 2.290004557015148\n",
            "Loss for epoch 59 is: 2.287181819754273\n",
            "Loss for epoch 60 is: 2.2843923828789756\n",
            "Loss for epoch 61 is: 2.281635614087257\n",
            "Loss for epoch 62 is: 2.27891089691427\n",
            "Loss for epoch 63 is: 2.2762176302503994\n",
            "Loss for epoch 64 is: 2.2735552278756543\n",
            "Loss for epoch 65 is: 2.2709231180097444\n",
            "Loss for epoch 66 is: 2.268320742877423\n",
            "Loss for epoch 67 is: 2.265747558288606\n",
            "Loss for epoch 68 is: 2.2632030332327626\n",
            "Loss for epoch 69 is: 2.260686649487068\n",
            "Loss for epoch 70 is: 2.258197901237954\n",
            "Loss for epoch 71 is: 2.2557362947153763\n",
            "Loss for epoch 72 is: 2.253301347839727\n",
            "Loss for epoch 73 is: 2.2508925898804923\n",
            "Loss for epoch 74 is: 2.2485095611266273\n",
            "Loss for epoch 75 is: 2.2461518125680766\n",
            "Loss for epoch 76 is: 2.24381890558797\n",
            "Loss for epoch 77 is: 2.2415104116652054\n",
            "Loss for epoch 78 is: 2.2392259120871296\n",
            "Loss for epoch 79 is: 2.2369649976716306\n",
            "Loss for epoch 80 is: 2.234727268498787\n",
            "Loss for epoch 81 is: 2.232512333651189\n",
            "Loss for epoch 82 is: 2.2303198109630613\n",
            "Loss for epoch 83 is: 2.228149326777578\n",
            "Loss for epoch 84 is: 2.2260005157122262\n",
            "Loss for epoch 85 is: 2.223873020431838\n",
            "Loss for epoch 86 is: 2.2217664914290656\n",
            "Loss for epoch 87 is: 2.219680586811927\n",
            "Loss for epoch 88 is: 2.2176149720983616\n",
            "Loss for epoch 89 is: 2.2155693200173205\n",
            "Loss for epoch 90 is: 2.21354331031618\n",
            "Loss for epoch 91 is: 2.2115366295745345\n",
            "Loss for epoch 92 is: 2.2095489710236715\n",
            "Loss for epoch 93 is: 2.2075800343718703\n",
            "Loss for epoch 94 is: 2.205629525635206\n",
            "Loss for epoch 95 is: 2.203697156973654\n",
            "Loss for epoch 96 is: 2.2017826465322745\n",
            "Loss for epoch 97 is: 2.1998857182873426\n",
            "Loss for epoch 98 is: 2.1980061018972257\n",
            "Loss for epoch 99 is: 2.1961435325578873\n"
          ]
        }
      ]
    },
    {
      "cell_type": "code",
      "source": [
        "def softmax_predict(W,images):\n",
        "  preds = []\n",
        "  for idx, i in enumerate(images):\n",
        "    score = (np.dot(i.flatten().reshape(1,-1),W)).ravel()\n",
        "    preds.append(np.argmax(score)+1)\n",
        "\n",
        "  return preds"
      ],
      "metadata": {
        "id": "YHEgyzhmfczl"
      },
      "execution_count": 22,
      "outputs": []
    },
    {
      "cell_type": "code",
      "source": [
        "softmax_preds = softmax_predict(W, X_test)"
      ],
      "metadata": {
        "id": "y9rrlRi4fvEz"
      },
      "execution_count": 23,
      "outputs": []
    },
    {
      "cell_type": "code",
      "source": [
        "softmax_accuracy = np.mean(y_test == softmax_preds)"
      ],
      "metadata": {
        "id": "hx1qw-4Kf1NV"
      },
      "execution_count": 24,
      "outputs": []
    },
    {
      "cell_type": "code",
      "source": [
        "print(\"softmax accuracy: %f\" %(softmax_accuracy))"
      ],
      "metadata": {
        "colab": {
          "base_uri": "https://localhost:8080/"
        },
        "id": "U21GolUCf6yZ",
        "outputId": "f77bbb06-cde9-45a3-8826-21cb2478a93d"
      },
      "execution_count": 25,
      "outputs": [
        {
          "output_type": "stream",
          "name": "stdout",
          "text": [
            "softmax accuracy: 0.100000\n"
          ]
        }
      ]
    },
    {
      "cell_type": "code",
      "source": [
        ""
      ],
      "metadata": {
        "id": "z6IJZgYRgCoY"
      },
      "execution_count": null,
      "outputs": []
    }
  ]
}